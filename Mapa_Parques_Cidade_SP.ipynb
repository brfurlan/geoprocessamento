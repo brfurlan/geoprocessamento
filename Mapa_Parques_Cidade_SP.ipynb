{
  "nbformat": 4,
  "nbformat_minor": 0,
  "metadata": {
    "colab": {
      "name": "Mapa Parques Cidade SP.ipynb",
      "provenance": [],
      "collapsed_sections": []
    },
    "kernelspec": {
      "name": "python3",
      "display_name": "Python 3"
    },
    "language_info": {
      "name": "python"
    }
  },
  "cells": [
    {
      "cell_type": "markdown",
      "source": [
        "# <center> Projeto geoprocessamento Parques Municipais Cidade de São Paulo </center>"
      ],
      "metadata": {
        "id": "M3vdW06pE0Kv"
      }
    },
    {
      "cell_type": "markdown",
      "source": [
        "<p> O referido projeto busca trabalhar com o geoprocessamento com o uso de dados dos distritos do Município e de seus parques Municipais. Espera-se obter <italic>insigths</italic> com este cruzamento de dados.</p>\n"
      ],
      "metadata": {
        "id": "drqDrjtKFaRB"
      }
    },
    {
      "cell_type": "markdown",
      "source": [
        "# 1 Iniciando estudos de dados"
      ],
      "metadata": {
        "id": "VmrPQzZAHB3e"
      }
    },
    {
      "cell_type": "markdown",
      "source": [
        "## \n",
        "\n",
        "```\n",
        "# Isto está formatado como código\n",
        "```\n",
        "\n",
        "1.1 Instalando e importando biblioteccas"
      ],
      "metadata": {
        "id": "QfsbFiyKHOGA"
      }
    },
    {
      "cell_type": "code",
      "source": [
        "pip install geopandas"
      ],
      "metadata": {
        "colab": {
          "base_uri": "https://localhost:8080/"
        },
        "id": "xdaRKkz1nVeK",
        "outputId": "499e3864-b536-4ae3-aee7-22f7fdb8dfda"
      },
      "execution_count": null,
      "outputs": [
        {
          "output_type": "stream",
          "name": "stdout",
          "text": [
            "Requirement already satisfied: geopandas in /usr/local/lib/python3.7/dist-packages (0.10.2)\n",
            "Requirement already satisfied: pyproj>=2.2.0 in /usr/local/lib/python3.7/dist-packages (from geopandas) (3.2.1)\n",
            "Requirement already satisfied: pandas>=0.25.0 in /usr/local/lib/python3.7/dist-packages (from geopandas) (1.3.5)\n",
            "Requirement already satisfied: fiona>=1.8 in /usr/local/lib/python3.7/dist-packages (from geopandas) (1.8.21)\n",
            "Requirement already satisfied: shapely>=1.6 in /usr/local/lib/python3.7/dist-packages (from geopandas) (1.8.1.post1)\n",
            "Requirement already satisfied: munch in /usr/local/lib/python3.7/dist-packages (from fiona>=1.8->geopandas) (2.5.0)\n",
            "Requirement already satisfied: click-plugins>=1.0 in /usr/local/lib/python3.7/dist-packages (from fiona>=1.8->geopandas) (1.1.1)\n",
            "Requirement already satisfied: attrs>=17 in /usr/local/lib/python3.7/dist-packages (from fiona>=1.8->geopandas) (21.4.0)\n",
            "Requirement already satisfied: certifi in /usr/local/lib/python3.7/dist-packages (from fiona>=1.8->geopandas) (2021.10.8)\n",
            "Requirement already satisfied: setuptools in /usr/local/lib/python3.7/dist-packages (from fiona>=1.8->geopandas) (57.4.0)\n",
            "Requirement already satisfied: six>=1.7 in /usr/local/lib/python3.7/dist-packages (from fiona>=1.8->geopandas) (1.15.0)\n",
            "Requirement already satisfied: cligj>=0.5 in /usr/local/lib/python3.7/dist-packages (from fiona>=1.8->geopandas) (0.7.2)\n",
            "Requirement already satisfied: click>=4.0 in /usr/local/lib/python3.7/dist-packages (from fiona>=1.8->geopandas) (7.1.2)\n",
            "Requirement already satisfied: numpy>=1.17.3 in /usr/local/lib/python3.7/dist-packages (from pandas>=0.25.0->geopandas) (1.21.6)\n",
            "Requirement already satisfied: python-dateutil>=2.7.3 in /usr/local/lib/python3.7/dist-packages (from pandas>=0.25.0->geopandas) (2.8.2)\n",
            "Requirement already satisfied: pytz>=2017.3 in /usr/local/lib/python3.7/dist-packages (from pandas>=0.25.0->geopandas) (2022.1)\n"
          ]
        }
      ]
    },
    {
      "cell_type": "code",
      "source": [
        "pip install folium"
      ],
      "metadata": {
        "colab": {
          "base_uri": "https://localhost:8080/"
        },
        "id": "1Bl0x_KrnVQn",
        "outputId": "3f6bfe3a-3147-47c9-9455-f8d728ee3f4c"
      },
      "execution_count": null,
      "outputs": [
        {
          "output_type": "stream",
          "name": "stdout",
          "text": [
            "Requirement already satisfied: folium in /usr/local/lib/python3.7/dist-packages (0.8.3)\n",
            "Requirement already satisfied: jinja2 in /usr/local/lib/python3.7/dist-packages (from folium) (2.11.3)\n",
            "Requirement already satisfied: numpy in /usr/local/lib/python3.7/dist-packages (from folium) (1.21.6)\n",
            "Requirement already satisfied: six in /usr/local/lib/python3.7/dist-packages (from folium) (1.15.0)\n",
            "Requirement already satisfied: branca>=0.3.0 in /usr/local/lib/python3.7/dist-packages (from folium) (0.5.0)\n",
            "Requirement already satisfied: requests in /usr/local/lib/python3.7/dist-packages (from folium) (2.23.0)\n",
            "Requirement already satisfied: MarkupSafe>=0.23 in /usr/local/lib/python3.7/dist-packages (from jinja2->folium) (2.0.1)\n",
            "Requirement already satisfied: chardet<4,>=3.0.2 in /usr/local/lib/python3.7/dist-packages (from requests->folium) (3.0.4)\n",
            "Requirement already satisfied: idna<3,>=2.5 in /usr/local/lib/python3.7/dist-packages (from requests->folium) (2.10)\n",
            "Requirement already satisfied: urllib3!=1.25.0,!=1.25.1,<1.26,>=1.21.1 in /usr/local/lib/python3.7/dist-packages (from requests->folium) (1.24.3)\n",
            "Requirement already satisfied: certifi>=2017.4.17 in /usr/local/lib/python3.7/dist-packages (from requests->folium) (2021.10.8)\n"
          ]
        }
      ]
    },
    {
      "cell_type": "code",
      "source": [
        "pip install requests"
      ],
      "metadata": {
        "colab": {
          "base_uri": "https://localhost:8080/"
        },
        "id": "ed8D98K9pMBZ",
        "outputId": "ade779e5-7104-49bc-ecb4-3d50050fedbf"
      },
      "execution_count": null,
      "outputs": [
        {
          "output_type": "stream",
          "name": "stdout",
          "text": [
            "Requirement already satisfied: requests in /usr/local/lib/python3.7/dist-packages (2.23.0)\n",
            "Requirement already satisfied: idna<3,>=2.5 in /usr/local/lib/python3.7/dist-packages (from requests) (2.10)\n",
            "Requirement already satisfied: certifi>=2017.4.17 in /usr/local/lib/python3.7/dist-packages (from requests) (2021.10.8)\n",
            "Requirement already satisfied: chardet<4,>=3.0.2 in /usr/local/lib/python3.7/dist-packages (from requests) (3.0.4)\n",
            "Requirement already satisfied: urllib3!=1.25.0,!=1.25.1,<1.26,>=1.21.1 in /usr/local/lib/python3.7/dist-packages (from requests) (1.24.3)\n"
          ]
        }
      ]
    },
    {
      "cell_type": "code",
      "execution_count": null,
      "metadata": {
        "id": "Pq69_3iFnHj9"
      },
      "outputs": [],
      "source": [
        "import geopandas as gpd\n",
        "import folium\n",
        "import matplotlib.pyplot as plt\n",
        "import requests\n",
        "import zipfile\n",
        "import os"
      ]
    },
    {
      "cell_type": "markdown",
      "source": [
        "## 1.2 Importando dados"
      ],
      "metadata": {
        "id": "ISovZOEqHhcD"
      }
    },
    {
      "cell_type": "code",
      "source": [
        "from google.colab import drive\n",
        "\n",
        "drive.mount('/content/drive/')"
      ],
      "metadata": {
        "colab": {
          "base_uri": "https://localhost:8080/"
        },
        "id": "QanlwhJfpfTK",
        "outputId": "cb1ee573-4aa2-479d-e2cb-b8875c65c902"
      },
      "execution_count": null,
      "outputs": [
        {
          "output_type": "stream",
          "name": "stdout",
          "text": [
            "Drive already mounted at /content/drive/; to attempt to forcibly remount, call drive.mount(\"/content/drive/\", force_remount=True).\n"
          ]
        }
      ]
    },
    {
      "cell_type": "markdown",
      "source": [
        "### 1.2.1 Importando dados dos distritos do Município de São Paulo direto da fonte:\n",
        "[texto do link](http://datageo.ambiente.sp.gov.br/geoserver/datageo/DISTRITO_MUNICIPAL_SP_SMDU/wfs?version=1.0.0&request=GetFeature&outputFormat=SHAPE-ZIP&typeName=DISTRITO_MUNICIPAL_SP_SMDU\", dest_folder=\"/content/drive/MyDrive/Colab Notebooks/SP_Municipio_2021)"
      ],
      "metadata": {
        "id": "WZNVnfPDH5ww"
      }
    },
    {
      "cell_type": "code",
      "source": [
        "def download(url: str, dest_folder: str):\n",
        "    if not os.path.exists(dest_folder):\n",
        "        os.makedirs(dest_folder)  # create folder if it does not exist\n",
        "\n",
        "    filename = url.split('/')[-1].replace(\" \", \"_\")  # be careful with file names\n",
        "    file_path = os.path.join(dest_folder, filename)\n",
        "\n",
        "    r = requests.get(url, stream=True)\n",
        "    if r.ok:\n",
        "        print(\"saving to\", os.path.abspath(file_path))\n",
        "        with open(file_path, 'wb') as f:\n",
        "            for chunk in r.iter_content(chunk_size=1024 * 8):\n",
        "                if chunk:\n",
        "                    f.write(chunk)\n",
        "                    f.flush()\n",
        "                    os.fsync(f.fileno())\n",
        "    else:  # HTTP status code 4XX/5XX\n",
        "        print(\"Download failed: status code {}\\n{}\".format(r.status_code, r.text))\n",
        "\n",
        "download(\"http://datageo.ambiente.sp.gov.br/geoserver/datageo/DISTRITO_MUNICIPAL_SP_SMDU/wfs?version=1.0.0&request=GetFeature&outputFormat=SHAPE-ZIP&typeName=DISTRITO_MUNICIPAL_SP_SMDU\", dest_folder=\"/content/drive/MyDrive/Colab Notebooks/SP_Municipio_2021\")"
      ],
      "metadata": {
        "colab": {
          "base_uri": "https://localhost:8080/"
        },
        "id": "aHLLbfOupm0d",
        "outputId": "d0369def-0c6d-40a3-845e-8209b93f6ecb"
      },
      "execution_count": null,
      "outputs": [
        {
          "output_type": "stream",
          "name": "stdout",
          "text": [
            "saving to /content/drive/MyDrive/Colab Notebooks/SP_Municipio_2021/wfs?version=1.0.0&request=GetFeature&outputFormat=SHAPE-ZIP&typeName=DISTRITO_MUNICIPAL_SP_SMDU\n"
          ]
        }
      ]
    },
    {
      "cell_type": "markdown",
      "source": [
        "Descompactando dados"
      ],
      "metadata": {
        "id": "KI9xR9vnIgjL"
      }
    },
    {
      "cell_type": "code",
      "source": [
        "with zipfile.ZipFile('/content/drive/MyDrive/Colab Notebooks/SP_Municipio_2021/wfs?version=1.0.0&request=GetFeature&outputFormat=SHAPE-ZIP&typeName=DISTRITO_MUNICIPAL_SP_SMDU', 'r') as zip_ref:\n",
        "  zip_ref.extractall('/content/drive/MyDrive/Colab Notebooks/SP_Municipio_2021/01-Mapas')"
      ],
      "metadata": {
        "id": "pkp0pfaLpx-e"
      },
      "execution_count": null,
      "outputs": []
    },
    {
      "cell_type": "markdown",
      "source": [
        "Plotagem de dados"
      ],
      "metadata": {
        "id": "Bory8--UIn_F"
      }
    },
    {
      "cell_type": "code",
      "source": [
        "\n",
        "distritos = gpd.read_file('/content/drive/MyDrive/Colab Notebooks/SP_Municipio_2021/01-Mapas/DISTRITO_MUNICIPAL_SP_SMDUPolygon.shp', encoding=\"utf-8\")\n",
        "distritos.head()"
      ],
      "metadata": {
        "colab": {
          "base_uri": "https://localhost:8080/",
          "height": 206
        },
        "id": "cW3BU1_MnhAy",
        "outputId": "402fc6bd-f7ba-49f8-e385-b962c4537e9b"
      },
      "execution_count": null,
      "outputs": [
        {
          "output_type": "execute_result",
          "data": {
            "text/plain": [
              "   Codigo             Nome                                           geometry\n",
              "0      51         MANDAQUI  POLYGON ((-46.65470 -23.43063, -46.65468 -23.4...\n",
              "1      52         MARSILAC  POLYGON ((-46.60987 -23.90550, -46.60990 -23.9...\n",
              "2      32            MOEMA  POLYGON ((-46.65361 -23.57219, -46.65359 -23.5...\n",
              "3      57  PARQUE DO CARMO  POLYGON ((-46.44461 -23.59272, -46.44470 -23.5...\n",
              "4      60         PERDIZES  POLYGON ((-46.66355 -23.53692, -46.66362 -23.5..."
            ],
            "text/html": [
              "\n",
              "  <div id=\"df-4eef47aa-7fba-4d3c-b1be-24436037bc2e\">\n",
              "    <div class=\"colab-df-container\">\n",
              "      <div>\n",
              "<style scoped>\n",
              "    .dataframe tbody tr th:only-of-type {\n",
              "        vertical-align: middle;\n",
              "    }\n",
              "\n",
              "    .dataframe tbody tr th {\n",
              "        vertical-align: top;\n",
              "    }\n",
              "\n",
              "    .dataframe thead th {\n",
              "        text-align: right;\n",
              "    }\n",
              "</style>\n",
              "<table border=\"1\" class=\"dataframe\">\n",
              "  <thead>\n",
              "    <tr style=\"text-align: right;\">\n",
              "      <th></th>\n",
              "      <th>Codigo</th>\n",
              "      <th>Nome</th>\n",
              "      <th>geometry</th>\n",
              "    </tr>\n",
              "  </thead>\n",
              "  <tbody>\n",
              "    <tr>\n",
              "      <th>0</th>\n",
              "      <td>51</td>\n",
              "      <td>MANDAQUI</td>\n",
              "      <td>POLYGON ((-46.65470 -23.43063, -46.65468 -23.4...</td>\n",
              "    </tr>\n",
              "    <tr>\n",
              "      <th>1</th>\n",
              "      <td>52</td>\n",
              "      <td>MARSILAC</td>\n",
              "      <td>POLYGON ((-46.60987 -23.90550, -46.60990 -23.9...</td>\n",
              "    </tr>\n",
              "    <tr>\n",
              "      <th>2</th>\n",
              "      <td>32</td>\n",
              "      <td>MOEMA</td>\n",
              "      <td>POLYGON ((-46.65361 -23.57219, -46.65359 -23.5...</td>\n",
              "    </tr>\n",
              "    <tr>\n",
              "      <th>3</th>\n",
              "      <td>57</td>\n",
              "      <td>PARQUE DO CARMO</td>\n",
              "      <td>POLYGON ((-46.44461 -23.59272, -46.44470 -23.5...</td>\n",
              "    </tr>\n",
              "    <tr>\n",
              "      <th>4</th>\n",
              "      <td>60</td>\n",
              "      <td>PERDIZES</td>\n",
              "      <td>POLYGON ((-46.66355 -23.53692, -46.66362 -23.5...</td>\n",
              "    </tr>\n",
              "  </tbody>\n",
              "</table>\n",
              "</div>\n",
              "      <button class=\"colab-df-convert\" onclick=\"convertToInteractive('df-4eef47aa-7fba-4d3c-b1be-24436037bc2e')\"\n",
              "              title=\"Convert this dataframe to an interactive table.\"\n",
              "              style=\"display:none;\">\n",
              "        \n",
              "  <svg xmlns=\"http://www.w3.org/2000/svg\" height=\"24px\"viewBox=\"0 0 24 24\"\n",
              "       width=\"24px\">\n",
              "    <path d=\"M0 0h24v24H0V0z\" fill=\"none\"/>\n",
              "    <path d=\"M18.56 5.44l.94 2.06.94-2.06 2.06-.94-2.06-.94-.94-2.06-.94 2.06-2.06.94zm-11 1L8.5 8.5l.94-2.06 2.06-.94-2.06-.94L8.5 2.5l-.94 2.06-2.06.94zm10 10l.94 2.06.94-2.06 2.06-.94-2.06-.94-.94-2.06-.94 2.06-2.06.94z\"/><path d=\"M17.41 7.96l-1.37-1.37c-.4-.4-.92-.59-1.43-.59-.52 0-1.04.2-1.43.59L10.3 9.45l-7.72 7.72c-.78.78-.78 2.05 0 2.83L4 21.41c.39.39.9.59 1.41.59.51 0 1.02-.2 1.41-.59l7.78-7.78 2.81-2.81c.8-.78.8-2.07 0-2.86zM5.41 20L4 18.59l7.72-7.72 1.47 1.35L5.41 20z\"/>\n",
              "  </svg>\n",
              "      </button>\n",
              "      \n",
              "  <style>\n",
              "    .colab-df-container {\n",
              "      display:flex;\n",
              "      flex-wrap:wrap;\n",
              "      gap: 12px;\n",
              "    }\n",
              "\n",
              "    .colab-df-convert {\n",
              "      background-color: #E8F0FE;\n",
              "      border: none;\n",
              "      border-radius: 50%;\n",
              "      cursor: pointer;\n",
              "      display: none;\n",
              "      fill: #1967D2;\n",
              "      height: 32px;\n",
              "      padding: 0 0 0 0;\n",
              "      width: 32px;\n",
              "    }\n",
              "\n",
              "    .colab-df-convert:hover {\n",
              "      background-color: #E2EBFA;\n",
              "      box-shadow: 0px 1px 2px rgba(60, 64, 67, 0.3), 0px 1px 3px 1px rgba(60, 64, 67, 0.15);\n",
              "      fill: #174EA6;\n",
              "    }\n",
              "\n",
              "    [theme=dark] .colab-df-convert {\n",
              "      background-color: #3B4455;\n",
              "      fill: #D2E3FC;\n",
              "    }\n",
              "\n",
              "    [theme=dark] .colab-df-convert:hover {\n",
              "      background-color: #434B5C;\n",
              "      box-shadow: 0px 1px 3px 1px rgba(0, 0, 0, 0.15);\n",
              "      filter: drop-shadow(0px 1px 2px rgba(0, 0, 0, 0.3));\n",
              "      fill: #FFFFFF;\n",
              "    }\n",
              "  </style>\n",
              "\n",
              "      <script>\n",
              "        const buttonEl =\n",
              "          document.querySelector('#df-4eef47aa-7fba-4d3c-b1be-24436037bc2e button.colab-df-convert');\n",
              "        buttonEl.style.display =\n",
              "          google.colab.kernel.accessAllowed ? 'block' : 'none';\n",
              "\n",
              "        async function convertToInteractive(key) {\n",
              "          const element = document.querySelector('#df-4eef47aa-7fba-4d3c-b1be-24436037bc2e');\n",
              "          const dataTable =\n",
              "            await google.colab.kernel.invokeFunction('convertToInteractive',\n",
              "                                                     [key], {});\n",
              "          if (!dataTable) return;\n",
              "\n",
              "          const docLinkHtml = 'Like what you see? Visit the ' +\n",
              "            '<a target=\"_blank\" href=https://colab.research.google.com/notebooks/data_table.ipynb>data table notebook</a>'\n",
              "            + ' to learn more about interactive tables.';\n",
              "          element.innerHTML = '';\n",
              "          dataTable['output_type'] = 'display_data';\n",
              "          await google.colab.output.renderOutput(dataTable, element);\n",
              "          const docLink = document.createElement('div');\n",
              "          docLink.innerHTML = docLinkHtml;\n",
              "          element.appendChild(docLink);\n",
              "        }\n",
              "      </script>\n",
              "    </div>\n",
              "  </div>\n",
              "  "
            ]
          },
          "metadata": {},
          "execution_count": 151
        }
      ]
    },
    {
      "cell_type": "code",
      "source": [
        "distritos.plot(figsize=(6, 6))\n",
        "plt.show()"
      ],
      "metadata": {
        "colab": {
          "base_uri": "https://localhost:8080/",
          "height": 374
        },
        "id": "JJwjR2VAntzM",
        "outputId": "a5229d42-2026-4969-f3f9-559c45f43488"
      },
      "execution_count": null,
      "outputs": [
        {
          "output_type": "display_data",
          "data": {
            "text/plain": [
              "<Figure size 432x432 with 1 Axes>"
            ],
            "image/png": "[encoded data removed]"
          },
          "metadata": {
            "needs_background": "light"
          }
        }
      ]
    },
    {
      "cell_type": "markdown",
      "source": [
        "Transformando coordenadas"
      ],
      "metadata": {
        "id": "RTmF2GUNJZLc"
      }
    },
    {
      "cell_type": "code",
      "source": [
        "distritos.crs"
      ],
      "metadata": {
        "colab": {
          "base_uri": "https://localhost:8080/"
        },
        "id": "CU9eoxo_n1Sf",
        "outputId": "14002375-5c0a-41f2-c1af-191906b03b16"
      },
      "execution_count": null,
      "outputs": [
        {
          "output_type": "execute_result",
          "data": {
            "text/plain": [
              "<Bound CRS: GEOGCS[\"SIRGAS 2000\",DATUM[\"Sistema_de_Referencia_ ...>\n",
              "Name: SIRGAS 2000\n",
              "Axis Info [ellipsoidal]:\n",
              "- lon[east]: Longitude (degree)\n",
              "- lat[north]: Latitude (degree)\n",
              "Area of Use:\n",
              "- undefined\n",
              "Coordinate Operation:\n",
              "- name: Transformation from SIRGAS 2000 to WGS84\n",
              "- method: Position Vector transformation (geog2D domain)\n",
              "Datum: Sistema de Referencia Geocentrico para las AmericaS 2000\n",
              "- Ellipsoid: GRS 1980\n",
              "- Prime Meridian: Greenwich\n",
              "Source CRS: SIRGAS 2000"
            ]
          },
          "metadata": {},
          "execution_count": 153
        }
      ]
    },
    {
      "cell_type": "code",
      "source": [
        "# Use WGS 84 (epsg:4326) as the geographic coordinate system\n",
        "distritos = distritos.to_crs(epsg=4326)\n",
        "print(distritos.crs)\n",
        "distritos.head()"
      ],
      "metadata": {
        "colab": {
          "base_uri": "https://localhost:8080/",
          "height": 223
        },
        "id": "FXbq85Qdn8U_",
        "outputId": "dafe5dbc-218e-48f7-ac3c-22a1d3b0db2f"
      },
      "execution_count": null,
      "outputs": [
        {
          "output_type": "stream",
          "name": "stdout",
          "text": [
            "epsg:4326\n"
          ]
        },
        {
          "output_type": "execute_result",
          "data": {
            "text/plain": [
              "   Codigo             Nome                                           geometry\n",
              "0      51         MANDAQUI  POLYGON ((-46.65470 -23.43063, -46.65468 -23.4...\n",
              "1      52         MARSILAC  POLYGON ((-46.60987 -23.90550, -46.60990 -23.9...\n",
              "2      32            MOEMA  POLYGON ((-46.65361 -23.57219, -46.65359 -23.5...\n",
              "3      57  PARQUE DO CARMO  POLYGON ((-46.44461 -23.59272, -46.44470 -23.5...\n",
              "4      60         PERDIZES  POLYGON ((-46.66355 -23.53692, -46.66362 -23.5..."
            ],
            "text/html": [
              "\n",
              "  <div id=\"df-57b591aa-fefc-4c97-9d46-0aa2d4aca5c8\">\n",
              "    <div class=\"colab-df-container\">\n",
              "      <div>\n",
              "<style scoped>\n",
              "    .dataframe tbody tr th:only-of-type {\n",
              "        vertical-align: middle;\n",
              "    }\n",
              "\n",
              "    .dataframe tbody tr th {\n",
              "        vertical-align: top;\n",
              "    }\n",
              "\n",
              "    .dataframe thead th {\n",
              "        text-align: right;\n",
              "    }\n",
              "</style>\n",
              "<table border=\"1\" class=\"dataframe\">\n",
              "  <thead>\n",
              "    <tr style=\"text-align: right;\">\n",
              "      <th></th>\n",
              "      <th>Codigo</th>\n",
              "      <th>Nome</th>\n",
              "      <th>geometry</th>\n",
              "    </tr>\n",
              "  </thead>\n",
              "  <tbody>\n",
              "    <tr>\n",
              "      <th>0</th>\n",
              "      <td>51</td>\n",
              "      <td>MANDAQUI</td>\n",
              "      <td>POLYGON ((-46.65470 -23.43063, -46.65468 -23.4...</td>\n",
              "    </tr>\n",
              "    <tr>\n",
              "      <th>1</th>\n",
              "      <td>52</td>\n",
              "      <td>MARSILAC</td>\n",
              "      <td>POLYGON ((-46.60987 -23.90550, -46.60990 -23.9...</td>\n",
              "    </tr>\n",
              "    <tr>\n",
              "      <th>2</th>\n",
              "      <td>32</td>\n",
              "      <td>MOEMA</td>\n",
              "      <td>POLYGON ((-46.65361 -23.57219, -46.65359 -23.5...</td>\n",
              "    </tr>\n",
              "    <tr>\n",
              "      <th>3</th>\n",
              "      <td>57</td>\n",
              "      <td>PARQUE DO CARMO</td>\n",
              "      <td>POLYGON ((-46.44461 -23.59272, -46.44470 -23.5...</td>\n",
              "    </tr>\n",
              "    <tr>\n",
              "      <th>4</th>\n",
              "      <td>60</td>\n",
              "      <td>PERDIZES</td>\n",
              "      <td>POLYGON ((-46.66355 -23.53692, -46.66362 -23.5...</td>\n",
              "    </tr>\n",
              "  </tbody>\n",
              "</table>\n",
              "</div>\n",
              "      <button class=\"colab-df-convert\" onclick=\"convertToInteractive('df-57b591aa-fefc-4c97-9d46-0aa2d4aca5c8')\"\n",
              "              title=\"Convert this dataframe to an interactive table.\"\n",
              "              style=\"display:none;\">\n",
              "        \n",
              "  <svg xmlns=\"http://www.w3.org/2000/svg\" height=\"24px\"viewBox=\"0 0 24 24\"\n",
              "       width=\"24px\">\n",
              "    <path d=\"M0 0h24v24H0V0z\" fill=\"none\"/>\n",
              "    <path d=\"M18.56 5.44l.94 2.06.94-2.06 2.06-.94-2.06-.94-.94-2.06-.94 2.06-2.06.94zm-11 1L8.5 8.5l.94-2.06 2.06-.94-2.06-.94L8.5 2.5l-.94 2.06-2.06.94zm10 10l.94 2.06.94-2.06 2.06-.94-2.06-.94-.94-2.06-.94 2.06-2.06.94z\"/><path d=\"M17.41 7.96l-1.37-1.37c-.4-.4-.92-.59-1.43-.59-.52 0-1.04.2-1.43.59L10.3 9.45l-7.72 7.72c-.78.78-.78 2.05 0 2.83L4 21.41c.39.39.9.59 1.41.59.51 0 1.02-.2 1.41-.59l7.78-7.78 2.81-2.81c.8-.78.8-2.07 0-2.86zM5.41 20L4 18.59l7.72-7.72 1.47 1.35L5.41 20z\"/>\n",
              "  </svg>\n",
              "      </button>\n",
              "      \n",
              "  <style>\n",
              "    .colab-df-container {\n",
              "      display:flex;\n",
              "      flex-wrap:wrap;\n",
              "      gap: 12px;\n",
              "    }\n",
              "\n",
              "    .colab-df-convert {\n",
              "      background-color: #E8F0FE;\n",
              "      border: none;\n",
              "      border-radius: 50%;\n",
              "      cursor: pointer;\n",
              "      display: none;\n",
              "      fill: #1967D2;\n",
              "      height: 32px;\n",
              "      padding: 0 0 0 0;\n",
              "      width: 32px;\n",
              "    }\n",
              "\n",
              "    .colab-df-convert:hover {\n",
              "      background-color: #E2EBFA;\n",
              "      box-shadow: 0px 1px 2px rgba(60, 64, 67, 0.3), 0px 1px 3px 1px rgba(60, 64, 67, 0.15);\n",
              "      fill: #174EA6;\n",
              "    }\n",
              "\n",
              "    [theme=dark] .colab-df-convert {\n",
              "      background-color: #3B4455;\n",
              "      fill: #D2E3FC;\n",
              "    }\n",
              "\n",
              "    [theme=dark] .colab-df-convert:hover {\n",
              "      background-color: #434B5C;\n",
              "      box-shadow: 0px 1px 3px 1px rgba(0, 0, 0, 0.15);\n",
              "      filter: drop-shadow(0px 1px 2px rgba(0, 0, 0, 0.3));\n",
              "      fill: #FFFFFF;\n",
              "    }\n",
              "  </style>\n",
              "\n",
              "      <script>\n",
              "        const buttonEl =\n",
              "          document.querySelector('#df-57b591aa-fefc-4c97-9d46-0aa2d4aca5c8 button.colab-df-convert');\n",
              "        buttonEl.style.display =\n",
              "          google.colab.kernel.accessAllowed ? 'block' : 'none';\n",
              "\n",
              "        async function convertToInteractive(key) {\n",
              "          const element = document.querySelector('#df-57b591aa-fefc-4c97-9d46-0aa2d4aca5c8');\n",
              "          const dataTable =\n",
              "            await google.colab.kernel.invokeFunction('convertToInteractive',\n",
              "                                                     [key], {});\n",
              "          if (!dataTable) return;\n",
              "\n",
              "          const docLinkHtml = 'Like what you see? Visit the ' +\n",
              "            '<a target=\"_blank\" href=https://colab.research.google.com/notebooks/data_table.ipynb>data table notebook</a>'\n",
              "            + ' to learn more about interactive tables.';\n",
              "          element.innerHTML = '';\n",
              "          dataTable['output_type'] = 'display_data';\n",
              "          await google.colab.output.renderOutput(dataTable, element);\n",
              "          const docLink = document.createElement('div');\n",
              "          docLink.innerHTML = docLinkHtml;\n",
              "          element.appendChild(docLink);\n",
              "        }\n",
              "      </script>\n",
              "    </div>\n",
              "  </div>\n",
              "  "
            ]
          },
          "metadata": {},
          "execution_count": 154
        }
      ]
    },
    {
      "cell_type": "markdown",
      "source": [
        "### 1.2.1 Importando dados das áreas verdes do Município de São Paulo direto da fonte:\n",
        "[texto do link](http://gestaourbana.prefeitura.sp.gov.br/arquivos/140326_proposta%20de%20substitutivo/05_Areas_Verdes_SHP.zip\", dest_folder=\"/content/drive/MyDrive/Colab Notebooks/SP_Municipio_2021)"
      ],
      "metadata": {
        "id": "_a0nTQqHI03S"
      }
    },
    {
      "cell_type": "code",
      "source": [
        "download(\"http://gestaourbana.prefeitura.sp.gov.br/arquivos/140326_proposta%20de%20substitutivo/05_Areas_Verdes_SHP.zip\", dest_folder=\"/content/drive/MyDrive/Colab Notebooks/SP_Municipio_2021\")"
      ],
      "metadata": {
        "colab": {
          "base_uri": "https://localhost:8080/"
        },
        "id": "JZkg7vj980NT",
        "outputId": "9958c947-4685-4cee-a4da-104618376b49"
      },
      "execution_count": null,
      "outputs": [
        {
          "output_type": "stream",
          "name": "stdout",
          "text": [
            "saving to /content/drive/MyDrive/Colab Notebooks/SP_Municipio_2021/05_Areas_Verdes_SHP.zip\n"
          ]
        }
      ]
    },
    {
      "cell_type": "markdown",
      "source": [
        "Descompactando dados"
      ],
      "metadata": {
        "id": "eR8mOjK-J205"
      }
    },
    {
      "cell_type": "code",
      "source": [
        "with zipfile.ZipFile('/content/drive/MyDrive/Colab Notebooks/SP_Municipio_2021/05_Areas_Verdes_SHP.zip', 'r') as zip_ref:\n",
        "  zip_ref.extractall('/content/drive/MyDrive/Colab Notebooks/SP_Municipio_2021/01-Mapas')"
      ],
      "metadata": {
        "id": "Oltvd62f84Oo"
      },
      "execution_count": null,
      "outputs": []
    },
    {
      "cell_type": "markdown",
      "source": [
        "Plotando dados"
      ],
      "metadata": {
        "id": "LPC6r45FKBY1"
      }
    },
    {
      "cell_type": "code",
      "source": [
        "areas_verdes  = gpd.read_file('/content/drive/MyDrive/Colab Notebooks/SP_Municipio_2021/01-Mapas/SHP/05_Parques_Municipais.shp')\n",
        "areas_verdes.plot(color='green', edgecolor='black',figsize=(15,8))"
      ],
      "metadata": {
        "colab": {
          "base_uri": "https://localhost:8080/",
          "height": 511
        },
        "id": "6lgyMA4K9AEX",
        "outputId": "1de13538-5bd0-47d6-e721-9a4de15e5d70"
      },
      "execution_count": null,
      "outputs": [
        {
          "output_type": "execute_result",
          "data": {
            "text/plain": [
              "<matplotlib.axes._subplots.AxesSubplot at 0x7fdc595566d0>"
            ]
          },
          "metadata": {},
          "execution_count": 157
        },
        {
          "output_type": "display_data",
          "data": {
            "text/plain": [
              "<Figure size 1080x576 with 1 Axes>"
            ],
            "image/png": "[encoded data removed]"
          },
          "metadata": {
            "needs_background": "light"
          }
        }
      ]
    },
    {
      "cell_type": "markdown",
      "source": [
        "Transformando coordenadas"
      ],
      "metadata": {
        "id": "fjM9rZbIJu0L"
      }
    },
    {
      "cell_type": "code",
      "source": [
        "areas_verdes.crs"
      ],
      "metadata": {
        "colab": {
          "base_uri": "https://localhost:8080/"
        },
        "id": "A_AdcTXn9MB_",
        "outputId": "a9a1c24d-51ba-46ce-8ac3-111856b757c0"
      },
      "execution_count": null,
      "outputs": [
        {
          "output_type": "execute_result",
          "data": {
            "text/plain": [
              "<Projected CRS: EPSG:29193>\n",
              "Name: SAD69 / UTM zone 23S\n",
              "Axis Info [cartesian]:\n",
              "- E[east]: Easting (metre)\n",
              "- N[north]: Northing (metre)\n",
              "Area of Use:\n",
              "- name: Brazil - between 48°W and 42°W, northern and southern hemispheres, onshore and offshore.\n",
              "- bounds: (-48.0, -33.5, -42.0, 5.13)\n",
              "Coordinate Operation:\n",
              "- name: UTM zone 23S\n",
              "- method: Transverse Mercator\n",
              "Datum: South American Datum 1969\n",
              "- Ellipsoid: GRS 1967 Modified\n",
              "- Prime Meridian: Greenwich"
            ]
          },
          "metadata": {},
          "execution_count": 158
        }
      ]
    },
    {
      "cell_type": "code",
      "source": [
        "# Use WGS 84 (epsg:4326) as the geographic coordinate system\n",
        "areas_verdes = areas_verdes.to_crs(epsg=4326)\n",
        "print(areas_verdes.crs)\n",
        "areas_verdes.head()"
      ],
      "metadata": {
        "colab": {
          "base_uri": "https://localhost:8080/",
          "height": 600
        },
        "id": "GBVHClKL9nHn",
        "outputId": "cca34b84-341f-455b-85c9-825b327d7cb4"
      },
      "execution_count": null,
      "outputs": [
        {
          "output_type": "stream",
          "name": "stdout",
          "text": [
            "epsg:4326\n"
          ]
        },
        {
          "output_type": "execute_result",
          "data": {
            "text/plain": [
              "   OBJECTID    CODIGO                           NOME SITUACAO        SITUAPDE  \\\n",
              "0       1.0  PQ_SA_01              CLUBE DO CHUVISCO    OBRAS  EM IMPLANTACAO   \n",
              "1       2.0  PQ_SM_10                  DAS NEBULOSAS    OBRAS  EM IMPLANTACAO   \n",
              "2       4.0  PQ_IP_02        INDEPENDENCIA AMPLIACAO    OBRAS  EM IMPLANTACAO   \n",
              "3       6.0  PQ_CS_17                 JARDIM PRAINHA    OBRAS  EM IMPLANTACAO   \n",
              "4       7.0  PQ_BT_02  LINEAR AGUA PODRE (ESMERALDA)    OBRAS  EM IMPLANTACAO   \n",
              "\n",
              "  CATEGORIA         SUBPREFEIT    DISTRITO                DUP   ID DEPOSITO  \\\n",
              "0    URBANO        SANTO AMARO  CAMPO BELO               None  0.0     None   \n",
              "1    URBANO         SAO MATEUS  SAO MATEUS               None  0.0     None   \n",
              "2    URBANO           IPIRANGA    IPIRANGA               None  0.0     None   \n",
              "3    URBANO  CAPELA DO SOCORRO      GRAJAU               None  0.0     None   \n",
              "4    LINEAR            BUTANTA     BUTANTA  51542/10_50589/09  0.0     None   \n",
              "\n",
              "     IP TRAMITACAO  AREA_DUP_M  AREA_M2_PO  \\\n",
              "0  None       None    23767.61    37468.63   \n",
              "1  None       None        0.00    61645.96   \n",
              "2  None       None        0.00   118075.66   \n",
              "3  None       None        0.00    92092.13   \n",
              "4  None       None    41740.00    89063.53   \n",
              "\n",
              "                                            geometry  \n",
              "0  POLYGON ((-46.66337 -23.63624, -46.66340 -23.6...  \n",
              "1  POLYGON ((-46.46401 -23.61601, -46.46406 -23.6...  \n",
              "2  POLYGON ((-46.61034 -23.57789, -46.61023 -23.5...  \n",
              "3  MULTIPOLYGON (((-46.65535 -23.75185, -46.65522...  \n",
              "4  MULTIPOLYGON (((-46.75782 -23.57021, -46.75656...  "
            ],
            "text/html": [
              "\n",
              "  <div id=\"df-152dfa90-22a7-467e-a6ef-312875b18e8a\">\n",
              "    <div class=\"colab-df-container\">\n",
              "      <div>\n",
              "<style scoped>\n",
              "    .dataframe tbody tr th:only-of-type {\n",
              "        vertical-align: middle;\n",
              "    }\n",
              "\n",
              "    .dataframe tbody tr th {\n",
              "        vertical-align: top;\n",
              "    }\n",
              "\n",
              "    .dataframe thead th {\n",
              "        text-align: right;\n",
              "    }\n",
              "</style>\n",
              "<table border=\"1\" class=\"dataframe\">\n",
              "  <thead>\n",
              "    <tr style=\"text-align: right;\">\n",
              "      <th></th>\n",
              "      <th>OBJECTID</th>\n",
              "      <th>CODIGO</th>\n",
              "      <th>NOME</th>\n",
              "      <th>SITUACAO</th>\n",
              "      <th>SITUAPDE</th>\n",
              "      <th>CATEGORIA</th>\n",
              "      <th>SUBPREFEIT</th>\n",
              "      <th>DISTRITO</th>\n",
              "      <th>DUP</th>\n",
              "      <th>ID</th>\n",
              "      <th>DEPOSITO</th>\n",
              "      <th>IP</th>\n",
              "      <th>TRAMITACAO</th>\n",
              "      <th>AREA_DUP_M</th>\n",
              "      <th>AREA_M2_PO</th>\n",
              "      <th>geometry</th>\n",
              "    </tr>\n",
              "  </thead>\n",
              "  <tbody>\n",
              "    <tr>\n",
              "      <th>0</th>\n",
              "      <td>1.0</td>\n",
              "      <td>PQ_SA_01</td>\n",
              "      <td>CLUBE DO CHUVISCO</td>\n",
              "      <td>OBRAS</td>\n",
              "      <td>EM IMPLANTACAO</td>\n",
              "      <td>URBANO</td>\n",
              "      <td>SANTO AMARO</td>\n",
              "      <td>CAMPO BELO</td>\n",
              "      <td>None</td>\n",
              "      <td>0.0</td>\n",
              "      <td>None</td>\n",
              "      <td>None</td>\n",
              "      <td>None</td>\n",
              "      <td>23767.61</td>\n",
              "      <td>37468.63</td>\n",
              "      <td>POLYGON ((-46.66337 -23.63624, -46.66340 -23.6...</td>\n",
              "    </tr>\n",
              "    <tr>\n",
              "      <th>1</th>\n",
              "      <td>2.0</td>\n",
              "      <td>PQ_SM_10</td>\n",
              "      <td>DAS NEBULOSAS</td>\n",
              "      <td>OBRAS</td>\n",
              "      <td>EM IMPLANTACAO</td>\n",
              "      <td>URBANO</td>\n",
              "      <td>SAO MATEUS</td>\n",
              "      <td>SAO MATEUS</td>\n",
              "      <td>None</td>\n",
              "      <td>0.0</td>\n",
              "      <td>None</td>\n",
              "      <td>None</td>\n",
              "      <td>None</td>\n",
              "      <td>0.00</td>\n",
              "      <td>61645.96</td>\n",
              "      <td>POLYGON ((-46.46401 -23.61601, -46.46406 -23.6...</td>\n",
              "    </tr>\n",
              "    <tr>\n",
              "      <th>2</th>\n",
              "      <td>4.0</td>\n",
              "      <td>PQ_IP_02</td>\n",
              "      <td>INDEPENDENCIA AMPLIACAO</td>\n",
              "      <td>OBRAS</td>\n",
              "      <td>EM IMPLANTACAO</td>\n",
              "      <td>URBANO</td>\n",
              "      <td>IPIRANGA</td>\n",
              "      <td>IPIRANGA</td>\n",
              "      <td>None</td>\n",
              "      <td>0.0</td>\n",
              "      <td>None</td>\n",
              "      <td>None</td>\n",
              "      <td>None</td>\n",
              "      <td>0.00</td>\n",
              "      <td>118075.66</td>\n",
              "      <td>POLYGON ((-46.61034 -23.57789, -46.61023 -23.5...</td>\n",
              "    </tr>\n",
              "    <tr>\n",
              "      <th>3</th>\n",
              "      <td>6.0</td>\n",
              "      <td>PQ_CS_17</td>\n",
              "      <td>JARDIM PRAINHA</td>\n",
              "      <td>OBRAS</td>\n",
              "      <td>EM IMPLANTACAO</td>\n",
              "      <td>URBANO</td>\n",
              "      <td>CAPELA DO SOCORRO</td>\n",
              "      <td>GRAJAU</td>\n",
              "      <td>None</td>\n",
              "      <td>0.0</td>\n",
              "      <td>None</td>\n",
              "      <td>None</td>\n",
              "      <td>None</td>\n",
              "      <td>0.00</td>\n",
              "      <td>92092.13</td>\n",
              "      <td>MULTIPOLYGON (((-46.65535 -23.75185, -46.65522...</td>\n",
              "    </tr>\n",
              "    <tr>\n",
              "      <th>4</th>\n",
              "      <td>7.0</td>\n",
              "      <td>PQ_BT_02</td>\n",
              "      <td>LINEAR AGUA PODRE (ESMERALDA)</td>\n",
              "      <td>OBRAS</td>\n",
              "      <td>EM IMPLANTACAO</td>\n",
              "      <td>LINEAR</td>\n",
              "      <td>BUTANTA</td>\n",
              "      <td>BUTANTA</td>\n",
              "      <td>51542/10_50589/09</td>\n",
              "      <td>0.0</td>\n",
              "      <td>None</td>\n",
              "      <td>None</td>\n",
              "      <td>None</td>\n",
              "      <td>41740.00</td>\n",
              "      <td>89063.53</td>\n",
              "      <td>MULTIPOLYGON (((-46.75782 -23.57021, -46.75656...</td>\n",
              "    </tr>\n",
              "  </tbody>\n",
              "</table>\n",
              "</div>\n",
              "      <button class=\"colab-df-convert\" onclick=\"convertToInteractive('df-152dfa90-22a7-467e-a6ef-312875b18e8a')\"\n",
              "              title=\"Convert this dataframe to an interactive table.\"\n",
              "              style=\"display:none;\">\n",
              "        \n",
              "  <svg xmlns=\"http://www.w3.org/2000/svg\" height=\"24px\"viewBox=\"0 0 24 24\"\n",
              "       width=\"24px\">\n",
              "    <path d=\"M0 0h24v24H0V0z\" fill=\"none\"/>\n",
              "    <path d=\"M18.56 5.44l.94 2.06.94-2.06 2.06-.94-2.06-.94-.94-2.06-.94 2.06-2.06.94zm-11 1L8.5 8.5l.94-2.06 2.06-.94-2.06-.94L8.5 2.5l-.94 2.06-2.06.94zm10 10l.94 2.06.94-2.06 2.06-.94-2.06-.94-.94-2.06-.94 2.06-2.06.94z\"/><path d=\"M17.41 7.96l-1.37-1.37c-.4-.4-.92-.59-1.43-.59-.52 0-1.04.2-1.43.59L10.3 9.45l-7.72 7.72c-.78.78-.78 2.05 0 2.83L4 21.41c.39.39.9.59 1.41.59.51 0 1.02-.2 1.41-.59l7.78-7.78 2.81-2.81c.8-.78.8-2.07 0-2.86zM5.41 20L4 18.59l7.72-7.72 1.47 1.35L5.41 20z\"/>\n",
              "  </svg>\n",
              "      </button>\n",
              "      \n",
              "  <style>\n",
              "    .colab-df-container {\n",
              "      display:flex;\n",
              "      flex-wrap:wrap;\n",
              "      gap: 12px;\n",
              "    }\n",
              "\n",
              "    .colab-df-convert {\n",
              "      background-color: #E8F0FE;\n",
              "      border: none;\n",
              "      border-radius: 50%;\n",
              "      cursor: pointer;\n",
              "      display: none;\n",
              "      fill: #1967D2;\n",
              "      height: 32px;\n",
              "      padding: 0 0 0 0;\n",
              "      width: 32px;\n",
              "    }\n",
              "\n",
              "    .colab-df-convert:hover {\n",
              "      background-color: #E2EBFA;\n",
              "      box-shadow: 0px 1px 2px rgba(60, 64, 67, 0.3), 0px 1px 3px 1px rgba(60, 64, 67, 0.15);\n",
              "      fill: #174EA6;\n",
              "    }\n",
              "\n",
              "    [theme=dark] .colab-df-convert {\n",
              "      background-color: #3B4455;\n",
              "      fill: #D2E3FC;\n",
              "    }\n",
              "\n",
              "    [theme=dark] .colab-df-convert:hover {\n",
              "      background-color: #434B5C;\n",
              "      box-shadow: 0px 1px 3px 1px rgba(0, 0, 0, 0.15);\n",
              "      filter: drop-shadow(0px 1px 2px rgba(0, 0, 0, 0.3));\n",
              "      fill: #FFFFFF;\n",
              "    }\n",
              "  </style>\n",
              "\n",
              "      <script>\n",
              "        const buttonEl =\n",
              "          document.querySelector('#df-152dfa90-22a7-467e-a6ef-312875b18e8a button.colab-df-convert');\n",
              "        buttonEl.style.display =\n",
              "          google.colab.kernel.accessAllowed ? 'block' : 'none';\n",
              "\n",
              "        async function convertToInteractive(key) {\n",
              "          const element = document.querySelector('#df-152dfa90-22a7-467e-a6ef-312875b18e8a');\n",
              "          const dataTable =\n",
              "            await google.colab.kernel.invokeFunction('convertToInteractive',\n",
              "                                                     [key], {});\n",
              "          if (!dataTable) return;\n",
              "\n",
              "          const docLinkHtml = 'Like what you see? Visit the ' +\n",
              "            '<a target=\"_blank\" href=https://colab.research.google.com/notebooks/data_table.ipynb>data table notebook</a>'\n",
              "            + ' to learn more about interactive tables.';\n",
              "          element.innerHTML = '';\n",
              "          dataTable['output_type'] = 'display_data';\n",
              "          await google.colab.output.renderOutput(dataTable, element);\n",
              "          const docLink = document.createElement('div');\n",
              "          docLink.innerHTML = docLinkHtml;\n",
              "          element.appendChild(docLink);\n",
              "        }\n",
              "      </script>\n",
              "    </div>\n",
              "  </div>\n",
              "  "
            ]
          },
          "metadata": {},
          "execution_count": 159
        }
      ]
    },
    {
      "cell_type": "markdown",
      "source": [
        "## 1.3 Gerando site"
      ],
      "metadata": {
        "id": "5yY00NtaKL3g"
      }
    },
    {
      "cell_type": "markdown",
      "source": [
        "## 1.3.1 Gerando mapa geral"
      ],
      "metadata": {
        "id": "b8o0aM9SKTuZ"
      }
    },
    {
      "cell_type": "code",
      "source": [
        "mapa_geral = folium.Map(location=[-23.550164466, -46.633664132], tiles = None, zoom_start=10)\n"
      ],
      "metadata": {
        "id": "zHT1QUMboKpb"
      },
      "execution_count": null,
      "outputs": []
    },
    {
      "cell_type": "markdown",
      "source": [
        "## 1.3.2 Gerando mapa em .html"
      ],
      "metadata": {
        "id": "gay3fM0PKZOg"
      }
    },
    {
      "cell_type": "code",
      "source": [
        "from folium.features import ColorLine\n",
        "from math import nan\n",
        "import folium\n",
        "import numpy as np\n",
        "from geopy.geocoders import Nominatim\n",
        "from folium import plugins\n",
        "\n",
        "\n",
        "folium.TileLayer('openstreetmap',overlay=True,name = 'Menu').add_to(mapa_geral)\n",
        "\n",
        "\n",
        "\n",
        "for _, r in distritos.iterrows():\n",
        "    sim_geo = gpd.GeoSeries(r['geometry']).simplify(tolerance=0.001)\n",
        "    geo_d = sim_geo.to_json()\n",
        "    geo_d = folium.GeoJson(data=geo_d, name= r['Nome'],\n",
        "                           style_function=lambda x: {'fillColor': 'blue', 'color': 'blue'})\n",
        "    geo_d.add_to(mapa_geral)\n",
        "\n",
        "areas_verdes_group = folium.FeatureGroup(name =\"Áreas Verdes\").add_to(mapa_geral)\n",
        "\n",
        "for _, r in areas_verdes.iterrows():\n",
        "    sim_geo = gpd.GeoSeries(r['geometry']).simplify(tolerance=0.001)\n",
        "    geo_a = sim_geo.to_json()\n",
        "    geo_a = folium.GeoJson(data=geo_a, name= r['NOME'],\n",
        "                           style_function=lambda x: {'fillColor': 'green', 'color': 'green'})\n",
        "    folium.Popup(r['NOME']).add_to(geo_a)\n",
        "    areas_verdes_group.add_child(geo_a).add_to(mapa_geral)\n",
        "\t\n",
        "\n",
        "folium.LayerControl().add_to(mapa_geral)  \n",
        "#mapa_geral\n",
        "\n",
        "mapa_geral.save('/content/drive/MyDrive/Colab Notebooks/SP_Municipio_2021/02-Resultados/mapa_distritos_sp.html') "
      ],
      "metadata": {
        "id": "XBNLBr5KoafI"
      },
      "execution_count": null,
      "outputs": []
    }
  ]
}